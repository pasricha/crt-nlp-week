{
 "cells": [
  {
   "cell_type": "code",
   "execution_count": 1,
   "id": "8180bc82",
   "metadata": {},
   "outputs": [],
   "source": [
    "import warnings\n",
    "warnings.filterwarnings('ignore')"
   ]
  },
  {
   "cell_type": "code",
   "execution_count": 2,
   "id": "a91999cb",
   "metadata": {},
   "outputs": [],
   "source": [
    "import nltk\n",
    "from nltk.classify import NaiveBayesClassifier\n",
    "\n",
    "import csv\n",
    "import pandas as pd\n",
    "import re\n",
    "import tqdm"
   ]
  },
  {
   "cell_type": "code",
   "execution_count": 3,
   "id": "3f61d7d3",
   "metadata": {},
   "outputs": [],
   "source": [
    "tweets = pd.read_csv('data/twitter-train.tsv', sep='\\t', \n",
    "                     quoting=csv.QUOTE_NONE, usecols=[0,1,2],\n",
    "                     names=['id', 'label', 'message'], \n",
    "                     index_col=0, dtype={'label': 'category'})"
   ]
  },
  {
   "cell_type": "code",
   "execution_count": 4,
   "id": "fd10c3d5",
   "metadata": {},
   "outputs": [],
   "source": [
    "# Clean and prepare messages:\n",
    "eyes_regex = r'[8:=;]'\n",
    "nose_regex = r\"['`\\-]?\"\n",
    "def replace_hash_text(match):\n",
    "    hash_text = match.group(1)\n",
    "    if hash_text.isupper():\n",
    "        return '<HASHTAG> ' + hash_text\n",
    "    else:\n",
    "        return '<HASHTAG> ' + ' '.join(re.findall(r'([a-zA-Z0-9]+?)(?=\\b|[A-Z0-9_])', hash_text))\n",
    "\n",
    "\n",
    "tweets['message'] = tweets['message'].str.decode('unicode_escape', errors='ignore')\n",
    "tweets['message'] = tweets['message'].str.strip('\"')  # remove left-most and right-most \"\n",
    "tweets['message'] = tweets['message'].str.replace('\"\"', '\"', regex=False)\n",
    "tweets['message'] = tweets['message'].str.replace(r'https?://\\S+\\b|www\\.(\\w+\\.)+\\S*', '<URL>') # replace URLs\n",
    "tweets['message'] = tweets['message'].str.replace(r'([/()\\[\\]])',r' \\1 ') # Force splitting words appended with slashes/parenthesis/brackets\n",
    "tweets['message'] = tweets['message'].str.replace(r'@\\w+', '<USER>') # Replace usernames\n",
    "tweets['message'] = tweets['message'].str.replace(r'[-+]?[.\\d]*[\\d]+[:,.\\d]*', ' <NUMBER> ') # Replace numbers\n",
    "tweets['message'] = tweets['message'].str.replace(r'#(\\S+)', replace_hash_text)\n",
    "tweets['message'] = tweets['message'].str.replace(eyes_regex + nose_regex + r'[)d]+|[)d]+' + nose_regex + eyes_regex, '<SMILE>', flags=re.IGNORECASE)\n",
    "tweets['message'] = tweets['message'].str.replace(eyes_regex + nose_regex + r'p+', '<LOLFACE>', flags=re.IGNORECASE)\n",
    "tweets['message'] = tweets['message'].str.replace(eyes_regex + nose_regex + r'\\(+|\\)+' + nose_regex + eyes_regex, '<SADFACE>')\n",
    "tweets['message'] = tweets['message'].str.replace(eyes_regex + nose_regex + r'[/|l*]', '<NEUTRALFACE>')\n",
    "tweets['message'] = tweets['message'].str.replace(r'<3', '<HEART>')\n",
    "tweets['message'] = tweets['message'].str.replace(r'([!?.]){2,}', r'\\1 <REPEAT>') # Mark punctuation repetitions (eg. \"!!!\" => \"! <REPEAT>\")\n",
    "tweets['message'] = tweets['message'].str.replace(r'\\b(\\S*?)(.)\\2{2,}\\b', r'\\1\\2 <ELONG>') # Mark elongated words (eg. \"wayyyy\" => \"way <ELONG>\")\n",
    "tweets['message'] = tweets['message'].str.replace(r'\\s+', ' ') # Replace all whitespace characters by only one space\n",
    "tweets['message'] = tweets['message'].str.strip()\n",
    "tweets['message'] = tweets['message'].str.lower()"
   ]
  },
  {
   "cell_type": "code",
   "execution_count": 5,
   "id": "f5c52446",
   "metadata": {},
   "outputs": [],
   "source": [
    "tokenizer = nltk.tokenize.TweetTokenizer()\n",
    "\n",
    "def features(tweet):\n",
    "    tokens = tokenizer.tokenize(tweet)\n",
    "    \n",
    "    unigram = dict([(token, True) for token in tokens])\n",
    "    bigram = dict([(' '.join(tokens), True) for tokens in nltk.bigrams(tokens)])\n",
    "    trigram = dict([(' '.join(tokens), True) for tokens in nltk.trigrams(tokens)])\n",
    "    \n",
    "    return {**unigram, **bigram, **trigram}"
   ]
  },
  {
   "cell_type": "code",
   "execution_count": 6,
   "id": "c2a144ba",
   "metadata": {},
   "outputs": [],
   "source": [
    "positive_tweets = tweets[tweets['label'] == 'positive']\n",
    "negative_tweets = tweets[tweets['label'] == 'negative']\n",
    "neutral_tweets = tweets[tweets['label'] == 'neutral']"
   ]
  },
  {
   "cell_type": "code",
   "execution_count": 7,
   "id": "4ead8be1",
   "metadata": {},
   "outputs": [],
   "source": [
    "positive_feats = [(features(tweet), 'positive') for tweet in positive_tweets['message']]\n",
    "negative_feats = [(features(tweet), 'negative') for tweet in negative_tweets['message']]\n",
    "neutral_feats = [(features(tweet), 'neutral') for tweet in neutral_tweets['message']]\n",
    "\n",
    "classifier = NaiveBayesClassifier.train(negative_feats + neutral_feats + positive_feats)"
   ]
  },
  {
   "cell_type": "code",
   "execution_count": 8,
   "id": "3c142b9f",
   "metadata": {
    "scrolled": true
   },
   "outputs": [
    {
     "name": "stderr",
     "output_type": "stream",
     "text": [
      "100%|██████████| 12284/12284 [00:05<00:00, 2202.54it/s]\n"
     ]
    }
   ],
   "source": [
    "tweets_test = pd.read_csv('data/SemEval2017-task4-test.subtask-A.english.txt', sep='\\t', \n",
    "                          quoting=csv.QUOTE_NONE, usecols=[0,1,2],\n",
    "                          names=['id', 'label', 'message'], \n",
    "                          index_col=0, dtype={'label': 'category'})\n",
    "\n",
    "sentiments = []\n",
    "\n",
    "for tweet in tqdm.tqdm(tweets_test['message']):\n",
    "    sentiments.append(classifier.classify(features(tweet)))"
   ]
  },
  {
   "cell_type": "code",
   "execution_count": 9,
   "id": "8c84e25e",
   "metadata": {},
   "outputs": [
    {
     "name": "stdout",
     "output_type": "stream",
     "text": [
      "Most Informative Features\n",
      "          happy <number> = True           positi : neutra =    114.6 : 1.0\n",
      "              so excited = True           positi : neutra =     66.1 : 1.0\n",
      "                   syria = True           negati : positi =     56.7 : 1.0\n",
      "       happy <number> th = True           positi : neutra =     55.6 : 1.0\n",
      "                  fucked = True           negati : positi =     51.6 : 1.0\n",
      "                 erdogan = True           negati : positi =     49.3 : 1.0\n",
      "            be the worst = True           negati : neutra =     49.0 : 1.0\n",
      "            <user> happy = True           positi : neutra =     46.5 : 1.0\n",
      "                   . : ( = True           negati : neutra =     45.1 : 1.0\n",
      "                 the ira = True           negati : positi =     44.6 : 1.0\n"
     ]
    }
   ],
   "source": [
    "classifier.show_most_informative_features()"
   ]
  },
  {
   "cell_type": "code",
   "execution_count": 10,
   "id": "fe9e41e9",
   "metadata": {},
   "outputs": [],
   "source": [
    "with open('outputs/nb-predictions.txt', 'w') as f:\n",
    "    for tweet_id, pred in zip(list(tweets_test.index), sentiments):\n",
    "        f.write(str(tweet_id) + '\\t' + pred + '\\n')"
   ]
  },
  {
   "cell_type": "code",
   "execution_count": 11,
   "id": "e90d54ae",
   "metadata": {},
   "outputs": [
    {
     "name": "stdout",
     "output_type": "stream",
     "text": [
      "outputs/nb-predictions.txt\t0.562\t0.554\t0.537\t\r\n"
     ]
    }
   ],
   "source": [
    "!perl SemEval2017_task4_test_scorer_subtaskA.pl data/SemEval2017_task4_subtaskA_test_english_gold.txt outputs/nb-predictions.txt"
   ]
  },
  {
   "cell_type": "code",
   "execution_count": 12,
   "id": "fce2bfbb",
   "metadata": {},
   "outputs": [],
   "source": [
    "import pickle\n",
    "\n",
    "with open('nb-classifier.pickle', 'wb') as handle:\n",
    "    pickle.dump(classifier, handle, protocol=pickle.HIGHEST_PROTOCOL)"
   ]
  }
 ],
 "metadata": {
  "kernelspec": {
   "display_name": "Python 3",
   "language": "python",
   "name": "python3"
  },
  "language_info": {
   "codemirror_mode": {
    "name": "ipython",
    "version": 3
   },
   "file_extension": ".py",
   "mimetype": "text/x-python",
   "name": "python",
   "nbconvert_exporter": "python",
   "pygments_lexer": "ipython3",
   "version": "3.7.10"
  }
 },
 "nbformat": 4,
 "nbformat_minor": 5
}

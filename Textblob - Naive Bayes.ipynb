{
 "cells": [
  {
   "cell_type": "code",
   "execution_count": 1,
   "id": "5cbc3047",
   "metadata": {},
   "outputs": [
    {
     "name": "stderr",
     "output_type": "stream",
     "text": [
      "[nltk_data] Downloading package movie_reviews to\n",
      "[nltk_data]     /home/nivpas/nltk_data...\n",
      "[nltk_data]   Package movie_reviews is already up-to-date!\n"
     ]
    },
    {
     "data": {
      "text/plain": [
       "True"
      ]
     },
     "execution_count": 1,
     "metadata": {},
     "output_type": "execute_result"
    }
   ],
   "source": [
    "from textblob import TextBlob, Blobber\n",
    "from textblob.sentiments import NaiveBayesAnalyzer\n",
    "\n",
    "import csv\n",
    "import pandas as pd\n",
    "import tqdm\n",
    "\n",
    "import nltk\n",
    "nltk.download('movie_reviews')"
   ]
  },
  {
   "cell_type": "code",
   "execution_count": 2,
   "id": "58a70f8c",
   "metadata": {},
   "outputs": [],
   "source": [
    "tweets_test = pd.read_csv('data/SemEval2017-task4-test.subtask-A.english.txt', sep='\\t', \n",
    "                          quoting=csv.QUOTE_NONE, usecols=[0,1,2],\n",
    "                          names=['id', 'label', 'message'], \n",
    "                          index_col=0, dtype={'label': 'category'})"
   ]
  },
  {
   "cell_type": "code",
   "execution_count": 3,
   "id": "b382353a",
   "metadata": {},
   "outputs": [],
   "source": [
    "blobber = Blobber(analyzer=NaiveBayesAnalyzer())\n",
    "\n",
    "def find_sentiment(tweet):\n",
    "    sentiment = blobber(tweet).sentiment\n",
    "    \n",
    "    if abs(sentiment.p_pos - sentiment.p_neg) < 0.1:\n",
    "        return 'neutral'\n",
    "    \n",
    "    if sentiment.classification == 'pos':\n",
    "        return 'positive'\n",
    "    \n",
    "    return 'negative'"
   ]
  },
  {
   "cell_type": "code",
   "execution_count": 4,
   "id": "41311299",
   "metadata": {},
   "outputs": [
    {
     "name": "stderr",
     "output_type": "stream",
     "text": [
      "100%|██████████| 12284/12284 [00:15<00:00, 797.60it/s] \n"
     ]
    }
   ],
   "source": [
    "sentiments = []\n",
    "\n",
    "for tweet in tqdm.tqdm(tweets_test['message']):\n",
    "    sentiments.append(find_sentiment(tweet))    "
   ]
  },
  {
   "cell_type": "code",
   "execution_count": 5,
   "id": "6ffcfcf1",
   "metadata": {},
   "outputs": [],
   "source": [
    "with open('outputs/textblob-nb-predictions.txt', 'w') as f:\n",
    "    for tweet_id, pred in zip(list(tweets_test.index), sentiments):\n",
    "        f.write(str(tweet_id) + '\\t' + pred + '\\n')"
   ]
  },
  {
   "cell_type": "code",
   "execution_count": 6,
   "id": "e90d54ae",
   "metadata": {},
   "outputs": [
    {
     "name": "stdout",
     "output_type": "stream",
     "text": [
      "textblob-nb-predictions.txt\t0.351\t0.320\t0.279\t\r\n"
     ]
    }
   ],
   "source": [
    "!perl SemEval2017_task4_test_scorer_subtaskA.pl data/SemEval2017_task4_subtaskA_test_english_gold.txt outputs/textblob-nb-predictions.txt"
   ]
  }
 ],
 "metadata": {
  "kernelspec": {
   "display_name": "Python 3",
   "language": "python",
   "name": "python3"
  },
  "language_info": {
   "codemirror_mode": {
    "name": "ipython",
    "version": 3
   },
   "file_extension": ".py",
   "mimetype": "text/x-python",
   "name": "python",
   "nbconvert_exporter": "python",
   "pygments_lexer": "ipython3",
   "version": "3.7.10"
  }
 },
 "nbformat": 4,
 "nbformat_minor": 5
}

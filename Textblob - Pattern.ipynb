{
 "cells": [
  {
   "cell_type": "code",
   "execution_count": 1,
   "id": "228b66ff",
   "metadata": {},
   "outputs": [],
   "source": [
    "from textblob import TextBlob, Blobber\n",
    "from textblob.sentiments import PatternAnalyzer\n",
    "\n",
    "import csv\n",
    "import pandas as pd\n",
    "import tqdm"
   ]
  },
  {
   "cell_type": "code",
   "execution_count": 2,
   "id": "a708ba2d",
   "metadata": {},
   "outputs": [],
   "source": [
    "tweets_test = pd.read_csv('data/SemEval2017-task4-test.subtask-A.english.txt', \n",
    "                          sep='\\t', quoting=csv.QUOTE_NONE, usecols=[0,1,2],\n",
    "                          names=['id', 'label', 'message'], \n",
    "                          index_col=0, dtype={'label': 'category'})"
   ]
  },
  {
   "cell_type": "code",
   "execution_count": 3,
   "id": "bd0a719e",
   "metadata": {},
   "outputs": [],
   "source": [
    "blobber = Blobber(analyzer=PatternAnalyzer())\n",
    "\n",
    "def find_sentiment(tweet):\n",
    "    sentiment = blobber(tweet).sentiment\n",
    "    if abs(sentiment.polarity) <= 0.05:\n",
    "        return 'neutral'\n",
    "    \n",
    "    if sentiment.polarity > 0:\n",
    "        return 'positive'\n",
    "    \n",
    "    return 'negative'"
   ]
  },
  {
   "cell_type": "code",
   "execution_count": 4,
   "id": "a7169942",
   "metadata": {},
   "outputs": [
    {
     "name": "stderr",
     "output_type": "stream",
     "text": [
      "100%|██████████| 12284/12284 [00:05<00:00, 2265.98it/s]\n"
     ]
    }
   ],
   "source": [
    "sentiments = []\n",
    "\n",
    "for tweet in tqdm.tqdm(tweets_test['message']):\n",
    "    sentiments.append(find_sentiment(tweet))    "
   ]
  },
  {
   "cell_type": "code",
   "execution_count": 5,
   "id": "4b5747c4",
   "metadata": {},
   "outputs": [],
   "source": [
    "with open('outputs/textblob-pattern-predictions.txt', 'w') as f:\n",
    "    for tweet_id, pred in zip(list(tweets_test.index), sentiments):\n",
    "        f.write(str(tweet_id) + '\\t' + pred + '\\n')"
   ]
  },
  {
   "cell_type": "code",
   "execution_count": 6,
   "id": "5f8d6b7f",
   "metadata": {},
   "outputs": [
    {
     "name": "stdout",
     "output_type": "stream",
     "text": [
      "textblob-pattern-predictions.txt\t0.490\t0.414\t0.487\t\r\n"
     ]
    }
   ],
   "source": [
    "!perl SemEval2017_task4_test_scorer_subtaskA.pl data/SemEval2017_task4_subtaskA_test_english_gold.txt outputs/textblob-pattern-predictions.txt"
   ]
  }
 ],
 "metadata": {
  "kernelspec": {
   "display_name": "Python 3",
   "language": "python",
   "name": "python3"
  },
  "language_info": {
   "codemirror_mode": {
    "name": "ipython",
    "version": 3
   },
   "file_extension": ".py",
   "mimetype": "text/x-python",
   "name": "python",
   "nbconvert_exporter": "python",
   "pygments_lexer": "ipython3",
   "version": "3.7.10"
  }
 },
 "nbformat": 4,
 "nbformat_minor": 5
}
